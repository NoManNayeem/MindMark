{
 "cells": [
  {
   "cell_type": "markdown",
   "id": "dfca3a1f-aadb-4317-a5ab-c561cf965ff3",
   "metadata": {},
   "source": [
    "# Install Packages"
   ]
  },
  {
   "cell_type": "code",
   "execution_count": 2,
   "id": "7ea45764-4e20-4649-a9c8-e159fb7d042f",
   "metadata": {},
   "outputs": [
    {
     "name": "stderr",
     "output_type": "stream",
     "text": [
      "WARNING: Ignoring invalid distribution ~cipy (C:\\Users\\lenovo\\anaconda3\\Lib\\site-packages)\n",
      "WARNING: Ignoring invalid distribution ~cipy (C:\\Users\\lenovo\\anaconda3\\Lib\\site-packages)\n",
      "WARNING: Ignoring invalid distribution ~cipy (C:\\Users\\lenovo\\anaconda3\\Lib\\site-packages)\n",
      "WARNING: Ignoring invalid distribution ~cipy (C:\\Users\\lenovo\\anaconda3\\Lib\\site-packages)\n",
      "WARNING: Ignoring invalid distribution ~cipy (C:\\Users\\lenovo\\anaconda3\\Lib\\site-packages)\n",
      "WARNING: Ignoring invalid distribution ~cipy (C:\\Users\\lenovo\\anaconda3\\Lib\\site-packages)\n"
     ]
    }
   ],
   "source": [
    "! pip install -q python-dotenv pydantic \n",
    "! pip install -q agno"
   ]
  },
  {
   "cell_type": "markdown",
   "id": "5119c89b-96b0-433f-ab7b-5a7fc18ec190",
   "metadata": {},
   "source": [
    "# Load .env File and Access Keys"
   ]
  },
  {
   "cell_type": "code",
   "execution_count": 4,
   "id": "27f3a4bb-185d-4dd9-ae8d-4837f294cd10",
   "metadata": {},
   "outputs": [
    {
     "name": "stdout",
     "output_type": "stream",
     "text": [
      "OpenAI Key Present: True\n",
      "Groq Key Present: True\n",
      "Tavily Key Present: True\n"
     ]
    }
   ],
   "source": [
    "from dotenv import load_dotenv\n",
    "import os\n",
    "from pydantic import BaseModel, SecretStr\n",
    "\n",
    "# Load .env file\n",
    "load_dotenv()\n",
    "\n",
    "# Define a Pydantic model to structure the API keys\n",
    "class APIKeys(BaseModel):\n",
    "    openai_api_key: SecretStr\n",
    "    groq_api_key: SecretStr\n",
    "    tavily_api_key: SecretStr\n",
    "\n",
    "# Fetch keys from environment\n",
    "keys = APIKeys(\n",
    "    openai_api_key=os.getenv(\"OPENAI_API_KEY\"),\n",
    "    groq_api_key=os.getenv(\"GROQ_API_KEY\"),        # Corrected: GROQ instead of Groq\n",
    "    tavily_api_key=os.getenv(\"TAVILY_API_KEY\"),\n",
    ")\n",
    "\n",
    "# Check presence of each secret\n",
    "openai_key_present = bool(keys.openai_api_key.get_secret_value())\n",
    "groq_key_present = bool(keys.groq_api_key.get_secret_value())\n",
    "tavily_key_present = bool(keys.tavily_api_key.get_secret_value())\n",
    "\n",
    "# Show results as booleans\n",
    "print(\"OpenAI Key Present:\", openai_key_present)\n",
    "print(\"Groq Key Present:\", groq_key_present)\n",
    "print(\"Tavily Key Present:\", tavily_key_present)\n"
   ]
  },
  {
   "cell_type": "markdown",
   "id": "b4a8e224-679b-4a3b-b41a-9a6d3a50936c",
   "metadata": {},
   "source": [
    "# Initiate Agent"
   ]
  },
  {
   "cell_type": "markdown",
   "id": "022ea706-d24d-4cf1-ab36-5b2c4e88d37f",
   "metadata": {},
   "source": [
    "## Short-Term Memory"
   ]
  },
  {
   "cell_type": "markdown",
   "id": "fa013db4-3b0a-4d67-9d6f-905e99eddc4c",
   "metadata": {},
   "source": [
    "- `SqliteStorage`\tPersists session memory to disk (so memory survives restarts)\n",
    "- `session_id`\tLinks all interactions together under one conversational session\n",
    "- `add_history_to_messages=True`\tEnsures agent sees previous exchanges (context)\n",
    "- `agent.run()`\tSends user input to the LLM with relevant context\n",
    "- `response.content`\tRetrieves and displays the model's reply"
   ]
  },
  {
   "cell_type": "code",
   "execution_count": 7,
   "id": "fc6f405e-c038-45b6-a3fe-6b1799ba62f3",
   "metadata": {},
   "outputs": [],
   "source": [
    "# Create a Memory-Aware Agent\n",
    "\n",
    "# 1. Import necessary classes from Agno\n",
    "from agno.agent import Agent                            # Core agent framework\n",
    "from agno.models.openai import OpenAIChat               # OpenAI model wrapper\n",
    "from agno.storage.sqlite import SqliteStorage           # Persistent memory via SQLite\n",
    "\n",
    "# 2. Instantiate the agent with memory support\n",
    "agent = Agent(\n",
    "    model=OpenAIChat(id=\"gpt-4o\"),                      # Set the model (GPT-4o or GPT-3.5)\n",
    "    \n",
    "    # Use SQLite to persist memory (conversation history)\n",
    "    storage=SqliteStorage(\n",
    "        table_name=\"agent_sessions\",                    # Table to store sessions\n",
    "        db_file=\"agent_memory.db\"                       # SQLite database file\n",
    "    ),\n",
    "    \n",
    "    session_id=\"test_session_1\",                        # Identifies this user/session uniquely\n",
    "    \n",
    "    add_history_to_messages=True,                       # Include chat history in the prompt\n",
    "    add_datetime_to_instructions=True                   # Add current datetime to help reasoning\n",
    ")\n"
   ]
  },
  {
   "cell_type": "markdown",
   "id": "60fc706a-0161-43b9-8927-28c88083d9b0",
   "metadata": {},
   "source": [
    "###💬 Step-by-Step: Interact with the Agent"
   ]
  },
  {
   "cell_type": "code",
   "execution_count": 9,
   "id": "0f2a2b46-5666-422f-b428-b11a2ac5b495",
   "metadata": {},
   "outputs": [
    {
     "name": "stdin",
     "output_type": "stream",
     "text": [
      "You:  Hello, My name is Nayeem and I am from Dhaka. Can you tell me about Paris?\n"
     ]
    },
    {
     "name": "stdout",
     "output_type": "stream",
     "text": [
      "Agent: Hello Nayeem! I'd be happy to tell you about Paris. Paris, the capital city of France, is renowned for its iconic landmarks, world-class museums, and rich cultural heritage. Here are some highlights:\n",
      "\n",
      "1. **Landmarks**: Paris is home to many famous landmarks, including the Eiffel Tower, the Notre-Dame Cathedral, the Arc de Triomphe, and the Sacré-Cœur Basilica. The Eiffel Tower, built in 1889, is one of the most recognizable structures in the world.\n",
      "\n",
      "2. **Museums**: The city boasts a wealth of museums such as the Louvre, which houses a vast collection of art and artifacts, including the Mona Lisa and the Venus de Milo. The Musée d'Orsay is famous for its Impressionist works by artists like Monet and Van Gogh.\n",
      "\n",
      "3. **Culture**: Known as the \"City of Light,\" Paris has a vibrant cultural scene with a rich history in art, fashion, and cuisine. The city is famous for its café culture, and you can often see Parisians enjoying coffee at charming sidewalk cafés.\n",
      "\n",
      "4. **Fashion**: Paris is a global fashion capital, home to many of the world's top designers and fashion houses, including Chanel, Louis Vuitton, and Dior. The city's fashion weeks are major events in the industry.\n",
      "\n",
      "5. **Cuisine**: French cuisine is celebrated worldwide, and Paris is a paradise for food lovers. From gourmet restaurants to rustic bistros, the city offers a wide array of dining experiences. Don't miss trying a freshly baked croissant or a traditional French dish like coq au vin.\n",
      "\n",
      "6. **History and Architecture**: The city's history can be explored through its architecture, from the medieval buildings of the Marais district to the Haussmannian boulevards. The Palace of Versailles, just outside Paris, is a stunning example of French opulence and history.\n",
      "\n",
      "7. **Lifestyle**: Parisians are known for their chic style and appreciation for the finer things in life. The city's beautiful parks, like the Luxembourg Gardens and the Tuileries, are perfect places to relax and observe the local way of life.\n",
      "\n",
      "Paris is a city that captivates visitors with its beauty, history, and culture. Whether you're strolling along the Seine River, exploring its neighborhoods, or enjoying its culinary delights, Paris offers a truly unforgettable experience.\n"
     ]
    },
    {
     "name": "stdin",
     "output_type": "stream",
     "text": [
      "You:  how much is 2+2?\n"
     ]
    },
    {
     "name": "stdout",
     "output_type": "stream",
     "text": [
      "Agent: 2 + 2 equals 4.\n"
     ]
    },
    {
     "name": "stdin",
     "output_type": "stream",
     "text": [
      "You:  tell me what my name means?\n"
     ]
    },
    {
     "name": "stdout",
     "output_type": "stream",
     "text": [
      "Agent: The name \"Nayeem\" has Arabic origins and is commonly used in various cultures, particularly in Muslim communities. It often means \"comfort, ease, or tranquility.\" As with many names, the exact meaning and significance can vary somewhat depending on cultural and regional differences. It's a name that carries a positive connotation, suggesting peace and well-being.\n"
     ]
    },
    {
     "name": "stdin",
     "output_type": "stream",
     "text": [
      "You:  exit\n"
     ]
    }
   ],
   "source": [
    "# 3. Run a simple input-response loop\n",
    "while True:\n",
    "    user_input = input(\"You: \")                         # Get user input from console\n",
    "    \n",
    "    if user_input.lower() in [\"exit\", \"quit\"]:          # Graceful exit condition\n",
    "        break\n",
    "\n",
    "    response = agent.run(user_input)                    # Send user input to agent and get reply\n",
    "    print(\"Agent:\", response.content)                   # Print model's response\n"
   ]
  },
  {
   "cell_type": "markdown",
   "id": "0212abb1-f99a-4789-bab0-76912dbb235d",
   "metadata": {},
   "source": [
    "## Test Memory Persistence Across Restarts"
   ]
  },
  {
   "cell_type": "code",
   "execution_count": 17,
   "id": "7f9c9225-df7c-4d0f-bff3-3fb891a3f950",
   "metadata": {},
   "outputs": [
    {
     "name": "stdout",
     "output_type": "stream",
     "text": [
      "Agent: You mentioned earlier that you are from Dhaka, so I assume you live there. Dhaka is the capital of Bangladesh and is known for its vibrant culture, history, and as a major center for commerce and education in the country. If you are referring to a different city or have any more specific questions about Dhaka or another topic, feel free to let me know!\n"
     ]
    }
   ],
   "source": [
    "response = agent.run(\"What city do I live in?\")\n",
    "print(\"Agent:\", response.content)"
   ]
  },
  {
   "cell_type": "code",
   "execution_count": null,
   "id": "b8f74b4a-5ce2-4a55-aa6f-70023fe1660b",
   "metadata": {},
   "outputs": [],
   "source": []
  }
 ],
 "metadata": {
  "kernelspec": {
   "display_name": "Python 3 (ipykernel)",
   "language": "python",
   "name": "python3"
  },
  "language_info": {
   "codemirror_mode": {
    "name": "ipython",
    "version": 3
   },
   "file_extension": ".py",
   "mimetype": "text/x-python",
   "name": "python",
   "nbconvert_exporter": "python",
   "pygments_lexer": "ipython3",
   "version": "3.12.7"
  }
 },
 "nbformat": 4,
 "nbformat_minor": 5
}
